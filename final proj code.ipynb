{
 "cells": [
  {
   "cell_type": "markdown",
   "id": "f8c394ee",
   "metadata": {},
   "source": [
    "final code - sonia epstein"
   ]
  },
  {
   "cell_type": "markdown",
   "id": "7c18e736",
   "metadata": {},
   "source": [
    "# Parts of Speech"
   ]
  },
  {
   "cell_type": "markdown",
   "id": "e2aded7b",
   "metadata": {},
   "source": [
    "# Common Nouns in *Taylor Swift* (2006)"
   ]
  },
  {
   "cell_type": "code",
   "execution_count": 31,
   "id": "cdf33bd8",
   "metadata": {},
   "outputs": [
    {
     "name": "stdout",
     "output_type": "stream",
     "text": [
      "Total common nouns (singular and plural) in Taylor Swift (2006):  206\n",
      "\n",
      "Top 10 common nouns (singular and plural) in Taylor Swift (2006): \n"
     ]
    },
    {
     "data": {
      "text/plain": [
       "[(14, 'song'),\n",
       " (11, 'way'),\n",
       " (11, 'time'),\n",
       " (10, \"you're\"),\n",
       " (10, \"don't\"),\n",
       " (8, 'love'),\n",
       " (7, 'smile'),\n",
       " (7, 'eyes'),\n",
       " (7, 'everything'),\n",
       " (7, 'baby')]"
      ]
     },
     "execution_count": 31,
     "metadata": {},
     "output_type": "execute_result"
    }
   ],
   "source": [
    "import pathlib\n",
    "path = pathlib.Path(\"Songs/Taylor Swift (2006)\")\n",
    "files = path.glob(\"*.txt\")\n",
    "x = \"\"\n",
    "for file in files:\n",
    "    f = open(file)\n",
    "    x += (f.read())\n",
    "    \n",
    "def find_nouns(x):\n",
    "    tokens = tokenizer.tokenize(x)\n",
    "    w_pos_pairs = nltk.pos_tag(tokens)           \n",
    "    d = dict()\n",
    "    for t in w_pos_pairs:\n",
    "        if t[1] == 'NN':\n",
    "            if t[0] in d:\n",
    "                d[t[0]] += 1\n",
    "            else:\n",
    "                d[t[0]] = 1\n",
    "        if t[1] == 'NNS':\n",
    "            if t[0] in d:\n",
    "                d[t[0]] += 1\n",
    "            else:\n",
    "                d[t[0]] = 1\n",
    "        else:\n",
    "            continue\n",
    "    lst = []\n",
    "    for key, val in d.items():\n",
    "        t = (val, key)\n",
    "        lst.append(t)\n",
    "    lst.sort(reverse=True)\n",
    "    print('Total common nouns (singular and plural) in Taylor Swift (2006): ', len(d))\n",
    "    print(   )\n",
    "    print('Top 10 common nouns (singular and plural) in Taylor Swift (2006): ')\n",
    "    return lst[:10]\n",
    "\n",
    "find_nouns(x)"
   ]
  },
  {
   "cell_type": "markdown",
   "id": "012a51bb",
   "metadata": {},
   "source": [
    "# Common Nouns in *Midnights* (2022)"
   ]
  },
  {
   "cell_type": "code",
   "execution_count": 38,
   "id": "d0f5f951",
   "metadata": {},
   "outputs": [
    {
     "name": "stdout",
     "output_type": "stream",
     "text": [
      "Total common nouns (singular and plural) in Midnights (2022):  349\n",
      "\n",
      "Top 10 common nouns (singular and plural) in Midnights (2022): \n"
     ]
    },
    {
     "data": {
      "text/plain": [
       "[(23, 'love'),\n",
       " (17, \"it's\"),\n",
       " (15, 'time'),\n",
       " (14, 'snow'),\n",
       " (14, 'beach'),\n",
       " (11, 'room'),\n",
       " (11, 'night'),\n",
       " (9, 'shit'),\n",
       " (8, 'lavender'),\n",
       " (8, 'friends')]"
      ]
     },
     "execution_count": 38,
     "metadata": {},
     "output_type": "execute_result"
    }
   ],
   "source": [
    "import pathlib\n",
    "path = pathlib.Path(\"Songs/Midnights (2022)\")\n",
    "files = path.glob(\"*.txt\")\n",
    "x = \"\"\n",
    "for file in files:\n",
    "    f = open(file)\n",
    "    x += (f.read())\n",
    "    \n",
    "def find_nouns(x):\n",
    "    tokens = tokenizer.tokenize(x)\n",
    "    w_pos_pairs = nltk.pos_tag(tokens)\n",
    "    #print(w_pos_pairs)\n",
    "    d = dict()\n",
    "    for t in w_pos_pairs:\n",
    "        if t[1] == 'NN':\n",
    "            if t[0] in d:\n",
    "                d[t[0]] += 1\n",
    "            else:\n",
    "                d[t[0]] = 1\n",
    "        if t[1] == 'NNS':\n",
    "            if t[0] in d:\n",
    "                d[t[0]] += 1\n",
    "            else:\n",
    "                d[t[0]] = 1\n",
    "        else:\n",
    "            continue\n",
    "    lst = []\n",
    "    for key, val in d.items():\n",
    "        t = (val, key)\n",
    "        lst.append(t)\n",
    "    lst.sort(reverse=True)\n",
    "    print('Total common nouns (singular and plural) in Midnights (2022): ', len(d))\n",
    "    print(   )\n",
    "    print('Top 10 common nouns (singular and plural) in Midnights (2022): ')\n",
    "    return lst[:10]\n",
    "\n",
    "find_nouns(x)"
   ]
  },
  {
   "cell_type": "markdown",
   "id": "3b8ac62c",
   "metadata": {},
   "source": [
    "# Verbs in *Taylor Swift* (2006)"
   ]
  },
  {
   "cell_type": "code",
   "execution_count": 32,
   "id": "0e77b222",
   "metadata": {},
   "outputs": [
    {
     "name": "stdout",
     "output_type": "stream",
     "text": [
      "Total verbs (any tense) in Taylor Swift (2006):  170\n",
      "\n",
      "Top 10 verbs (any tense) in Taylor Swift (2006): \n"
     ]
    },
    {
     "data": {
      "text/plain": [
       "[(30, 'be'),\n",
       " (20, 'said'),\n",
       " (14, 'been'),\n",
       " (12, 'was'),\n",
       " (11, 'know'),\n",
       " (10, 'got'),\n",
       " (9, 'see'),\n",
       " (9, 'have'),\n",
       " (7, 'let'),\n",
       " (7, 'gone')]"
      ]
     },
     "execution_count": 32,
     "metadata": {},
     "output_type": "execute_result"
    }
   ],
   "source": [
    "import pathlib\n",
    "path = pathlib.Path(\"Songs/Taylor Swift (2006)\")\n",
    "files = path.glob(\"*.txt\")\n",
    "x = \"\"\n",
    "for file in files:\n",
    "    f = open(file)\n",
    "    x += (f.read())\n",
    "    \n",
    "def find_verbs(x):\n",
    "    tokens = tokenizer.tokenize(x)\n",
    "    w_pos_pairs = nltk.pos_tag(tokens)           \n",
    "    d = dict()\n",
    "    for t in w_pos_pairs:\n",
    "        if t[1] == 'VB':\n",
    "            if t[0] in d:\n",
    "                d[t[0]] += 1\n",
    "            else:\n",
    "                d[t[0]] = 1\n",
    "        if t[1] == 'VBD':\n",
    "            if t[0] in d:\n",
    "                d[t[0]] += 1\n",
    "            else:\n",
    "                d[t[0]] = 1\n",
    "        if t[1] == 'VBG':\n",
    "            if t[0] in d:\n",
    "                d[t[0]] += 1\n",
    "            else:\n",
    "                d[t[0]] = 1\n",
    "        if t[1] == 'VBN':\n",
    "            if t[0] in d:\n",
    "                d[t[0]] += 1\n",
    "            else:\n",
    "                d[t[0]] = 1\n",
    "        else:\n",
    "            continue\n",
    "    lst = []\n",
    "    for key, val in d.items():\n",
    "        t = (val, key)\n",
    "        lst.append(t)\n",
    "    lst.sort(reverse=True)\n",
    "    print('Total verbs (any tense) in Taylor Swift (2006): ', len(d))\n",
    "    print(   )\n",
    "    print('Top 10 verbs (any tense) in Taylor Swift (2006): ')\n",
    "    return lst[:10]\n",
    "\n",
    "find_verbs(x)"
   ]
  },
  {
   "cell_type": "markdown",
   "id": "7c8ecd46",
   "metadata": {},
   "source": [
    "# Verbs in *Midnights* (2022)"
   ]
  },
  {
   "cell_type": "code",
   "execution_count": 33,
   "id": "371d42aa",
   "metadata": {},
   "outputs": [
    {
     "name": "stdout",
     "output_type": "stream",
     "text": [
      "Total verbs (any tense) in Midnights (2022):  208\n",
      "\n",
      "Top 10 verbs (any tense) in Midnights (2022): \n"
     ]
    },
    {
     "data": {
      "text/plain": [
       "[(56, 'was'),\n",
       " (22, 'falling'),\n",
       " (22, 'coming'),\n",
       " (20, 'wanted'),\n",
       " (13, 'been'),\n",
       " (13, 'be'),\n",
       " (11, 'were'),\n",
       " (11, 'saw'),\n",
       " (9, 'said'),\n",
       " (9, 'make')]"
      ]
     },
     "execution_count": 33,
     "metadata": {},
     "output_type": "execute_result"
    }
   ],
   "source": [
    "path = pathlib.Path(\"Songs/Midnights (2022)\")\n",
    "files = path.glob(\"*.txt\")\n",
    "x = \"\"\n",
    "for file in files:\n",
    "    f = open(file)\n",
    "    x += (f.read())\n",
    "    \n",
    "def find_verbs(x):\n",
    "    tokens = tokenizer.tokenize(x)\n",
    "    w_pos_pairs = nltk.pos_tag(tokens)           \n",
    "    d = dict()\n",
    "    for t in w_pos_pairs:\n",
    "        if t[1] == 'VB':\n",
    "            if t[0] in d:\n",
    "                d[t[0]] += 1\n",
    "            else:\n",
    "                d[t[0]] = 1\n",
    "        if t[1] == 'VBD':\n",
    "            if t[0] in d:\n",
    "                d[t[0]] += 1\n",
    "            else:\n",
    "                d[t[0]] = 1\n",
    "        if t[1] == 'VBG':\n",
    "            if t[0] in d:\n",
    "                d[t[0]] += 1\n",
    "            else:\n",
    "                d[t[0]] = 1\n",
    "        if t[1] == 'VBN':\n",
    "            if t[0] in d:\n",
    "                d[t[0]] += 1\n",
    "            else:\n",
    "                d[t[0]] = 1\n",
    "        else:\n",
    "            continue\n",
    "    lst = []\n",
    "    for key, val in d.items():\n",
    "        t = (val, key)\n",
    "        lst.append(t)\n",
    "    lst.sort(reverse=True)\n",
    "    print('Total verbs (any tense) in Midnights (2022): ', len(d))\n",
    "    print(   )\n",
    "    print('Top 10 verbs (any tense) in Midnights (2022): ')\n",
    "    return lst[:10]\n",
    "\n",
    "find_verbs(x)"
   ]
  },
  {
   "cell_type": "markdown",
   "id": "dce5f10f",
   "metadata": {},
   "source": [
    "# Adjectives in *Taylor Swift* (2006)"
   ]
  },
  {
   "cell_type": "code",
   "execution_count": 34,
   "id": "0223b6ee",
   "metadata": {},
   "outputs": [
    {
     "name": "stdout",
     "output_type": "stream",
     "text": [
      "Total adjectives in Taylor Swift (2006):  85\n",
      "\n",
      "Top 10 adjectives in Taylor Swift (2006): \n"
     ]
    },
    {
     "data": {
      "text/plain": [
       "[(12, 'beautiful'),\n",
       " (9, 'old'),\n",
       " (9, 'little'),\n",
       " (6, 'wrong'),\n",
       " (6, 'outside'),\n",
       " (6, 'first'),\n",
       " (6, 'blue'),\n",
       " (5, 'best'),\n",
       " (5, 'bad'),\n",
       " (4, 'wasted')]"
      ]
     },
     "execution_count": 34,
     "metadata": {},
     "output_type": "execute_result"
    }
   ],
   "source": [
    "path = pathlib.Path(\"Songs/Taylor Swift (2006)\")\n",
    "files = path.glob(\"*.txt\")\n",
    "x = \"\"\n",
    "for file in files:\n",
    "    f = open(file)\n",
    "    x += (f.read())\n",
    "    \n",
    "def find_adjectives(x):\n",
    "    tokens = tokenizer.tokenize(x)\n",
    "    w_pos_pairs = nltk.pos_tag(tokens)           \n",
    "    d = dict()\n",
    "    for t in w_pos_pairs:\n",
    "        if t[1] == 'JJ':\n",
    "            if t[0] in d:\n",
    "                d[t[0]] += 1\n",
    "            else:\n",
    "                d[t[0]] = 1\n",
    "        if t[1] == 'JJR':\n",
    "            if t[0] in d:\n",
    "                d[t[0]] += 1\n",
    "            else:\n",
    "                d[t[0]] = 1\n",
    "        if t[1] == 'JJS':\n",
    "            if t[0] in d:\n",
    "                d[t[0]] += 1\n",
    "            else:\n",
    "                d[t[0]] = 1\n",
    "        else:\n",
    "            continue\n",
    "    lst = []\n",
    "    for key, val in d.items():\n",
    "        t = (val, key)\n",
    "        lst.append(t)\n",
    "    lst.sort(reverse=True)\n",
    "    print('Total adjectives in Taylor Swift (2006): ', len(d))\n",
    "    print(   )\n",
    "    print('Top 10 adjectives in Taylor Swift (2006): ')\n",
    "    return lst[:10]\n",
    "\n",
    "find_adjectives(x)"
   ]
  },
  {
   "cell_type": "markdown",
   "id": "a65f5d59",
   "metadata": {},
   "source": [
    "# Adjectives in *Midnights* (2022)"
   ]
  },
  {
   "cell_type": "code",
   "execution_count": 35,
   "id": "2be0a427",
   "metadata": {},
   "outputs": [
    {
     "name": "stdout",
     "output_type": "stream",
     "text": [
      "Total adjectives in Midnights (2022):  122\n",
      "\n",
      "Top 10 adjectives in Midnights (2022): \n"
     ]
    },
    {
     "data": {
      "text/plain": [
       "[(9, 'real'),\n",
       " (9, 'own'),\n",
       " (7, 'whole'),\n",
       " (6, 'same'),\n",
       " (6, \"it's\"),\n",
       " (5, 'tonight'),\n",
       " (5, 'nice'),\n",
       " (5, 'much'),\n",
       " (5, 'last'),\n",
       " (5, 'boyfriend')]"
      ]
     },
     "execution_count": 35,
     "metadata": {},
     "output_type": "execute_result"
    }
   ],
   "source": [
    "path = pathlib.Path(\"Songs/Midnights (2022)\")\n",
    "files = path.glob(\"*.txt\")\n",
    "x = \"\"\n",
    "for file in files:\n",
    "    f = open(file)\n",
    "    x += (f.read())\n",
    "    \n",
    "def find_adjectives(x):\n",
    "    tokens = tokenizer.tokenize(x)\n",
    "    w_pos_pairs = nltk.pos_tag(tokens)           \n",
    "    d = dict()\n",
    "    for t in w_pos_pairs:\n",
    "        if t[1] == 'JJ':\n",
    "            if t[0] in d:\n",
    "                d[t[0]] += 1\n",
    "            else:\n",
    "                d[t[0]] = 1\n",
    "        if t[1] == 'JJR':\n",
    "            if t[0] in d:\n",
    "                d[t[0]] += 1\n",
    "            else:\n",
    "                d[t[0]] = 1\n",
    "        if t[1] == 'JJS':\n",
    "            if t[0] in d:\n",
    "                d[t[0]] += 1\n",
    "            else:\n",
    "                d[t[0]] = 1\n",
    "        else:\n",
    "            continue\n",
    "    lst = []\n",
    "    for key, val in d.items():\n",
    "        t = (val, key)\n",
    "        lst.append(t)\n",
    "    lst.sort(reverse=True)\n",
    "    print('Total adjectives in Midnights (2022): ', len(d))\n",
    "    print(   )\n",
    "    print('Top 10 adjectives in Midnights (2022): ')\n",
    "    return lst[:10]\n",
    "\n",
    "find_adjectives(x)"
   ]
  },
  {
   "cell_type": "markdown",
   "id": "e17c54a2",
   "metadata": {},
   "source": [
    "# Proper nouns in *Taylor Swift* (2006)"
   ]
  },
  {
   "cell_type": "code",
   "execution_count": 21,
   "id": "c567b348",
   "metadata": {},
   "outputs": [
    {
     "data": {
      "text/plain": [
       "[(29, \"I'm\"),\n",
       " (26, 'Oh'),\n",
       " (12, \"I've\"),\n",
       " (9, \"I'll\"),\n",
       " (7, \"You're\"),\n",
       " (7, 'No'),\n",
       " (6, 'Tim'),\n",
       " (6, 'So'),\n",
       " (6, 'McGraw'),\n",
       " (6, \"He's\")]"
      ]
     },
     "execution_count": 21,
     "metadata": {},
     "output_type": "execute_result"
    }
   ],
   "source": [
    "import pathlib\n",
    "path = pathlib.Path(\"Songs/Taylor Swift (2006)\")\n",
    "files = path.glob(\"*.txt\")\n",
    "x = \"\"\n",
    "for file in files:\n",
    "    f = open(file)\n",
    "    x += (f.read())\n",
    "\n",
    "def find_proper_nouns(x):\n",
    "    tokens = tokenizer.tokenize(x)\n",
    "    w_pos_pairs = nltk.pos_tag(tokens)           \n",
    "    d = dict()\n",
    "    for t in w_pos_pairs:\n",
    "        if t[1] == 'NNP':\n",
    "            if t[0] in d:\n",
    "                d[t[0]] += 1\n",
    "            else:\n",
    "                d[t[0]] = 1\n",
    "        else:\n",
    "            continue\n",
    "    lst = []\n",
    "    for key, val in d.items():\n",
    "        t = (val, key)\n",
    "        lst.append(t)\n",
    "    lst.sort(reverse=True)\n",
    "    return lst[:10]\n",
    "\n",
    "find_proper_nouns(x)"
   ]
  },
  {
   "cell_type": "markdown",
   "id": "99bb5805",
   "metadata": {},
   "source": [
    "# Proper nouns in *Midnights* (2022)"
   ]
  },
  {
   "cell_type": "code",
   "execution_count": 19,
   "id": "82b0d5ac",
   "metadata": {},
   "outputs": [
    {
     "data": {
      "text/plain": [
       "[(46, \"I'm\"),\n",
       " (16, 'Karma'),\n",
       " (15, \"It's\"),\n",
       " (14, 'Oh'),\n",
       " (12, 'Did'),\n",
       " (10, \"You're\"),\n",
       " (10, \"I've\"),\n",
       " (8, 'Sweet'),\n",
       " (7, \"I'll\"),\n",
       " (7, 'Hi')]"
      ]
     },
     "execution_count": 19,
     "metadata": {},
     "output_type": "execute_result"
    }
   ],
   "source": [
    "import pathlib\n",
    "path = pathlib.Path(\"Songs/Midnights (2022)\")\n",
    "files = path.glob(\"*.txt\")\n",
    "x = \"\"\n",
    "for file in files:\n",
    "    f = open(file)\n",
    "    x += (f.read())\n",
    "\n",
    "def find_proper_nouns(x):\n",
    "    tokens = tokenizer.tokenize(x)\n",
    "    w_pos_pairs = nltk.pos_tag(tokens)           \n",
    "    d = dict()\n",
    "    for t in w_pos_pairs:\n",
    "        if t[1] == 'NNP':\n",
    "            if t[0] in d:\n",
    "                d[t[0]] += 1\n",
    "            else:\n",
    "                d[t[0]] = 1\n",
    "        else:\n",
    "            continue\n",
    "    lst = []\n",
    "    for key, val in d.items():\n",
    "        t = (val, key)\n",
    "        lst.append(t)\n",
    "    lst.sort(reverse=True)\n",
    "    return lst[:10]\n",
    "\n",
    "find_proper_nouns(x)"
   ]
  }
 ],
 "metadata": {
  "kernelspec": {
   "display_name": "Python 3 (ipykernel)",
   "language": "python",
   "name": "python3"
  },
  "language_info": {
   "codemirror_mode": {
    "name": "ipython",
    "version": 3
   },
   "file_extension": ".py",
   "mimetype": "text/x-python",
   "name": "python",
   "nbconvert_exporter": "python",
   "pygments_lexer": "ipython3",
   "version": "3.9.12"
  }
 },
 "nbformat": 4,
 "nbformat_minor": 5
}
